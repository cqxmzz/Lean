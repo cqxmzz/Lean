{
 "cells": [
  {
   "cell_type": "code",
   "execution_count": 1,
   "metadata": {},
   "outputs": [
    {
     "name": "stdout",
     "output_type": "stream",
     "text": [
      "/Lean/Launcher/bin/Debug\n",
      "20230317 05:51:37.832 TRACE:: Using research_config.json as configuration file\n",
      "20230317 05:51:37.878 TRACE:: Config.GetValue(): debug-mode - Using default value: False\n",
      "20230317 05:51:37.878 TRACE:: Config.Get(): Configuration key not found. Key: results-destination-folder - Using default value: \n"
     ]
    },
    {
     "name": "stderr",
     "output_type": "stream",
     "text": [
      "20230317 05:51:37.878 ERROR:: Initializer.Start():  System.ArgumentException: Unable to locate any exports matching the requested typeName: QuantConnect.Logging.CompositeLogHandler (Parameter 'typeName')\n",
      "   at QuantConnect.Util.Composer.GetExportedValueByTypeName[T](String typeName, Boolean forceTypeNameOnExisting) in /Lean/Common/Util/Composer.cs:line 307\n",
      "   at QuantConnect.Lean.Engine.Initializer.Start() in /Lean/Engine/Initializer.cs:line 48\n"
     ]
    },
    {
     "ename": "ArgumentException",
     "evalue": "Unable to locate any exports matching the requested typeName: QuantConnect.Logging.CompositeLogHandler (Parameter 'typeName')\n   at QuantConnect.Util.Composer.GetExportedValueByTypeName[T](String typeName, Boolean forceTypeNameOnExisting) in /Lean/Common/Util/Composer.cs:line 307\n   at QuantConnect.Lean.Engine.Initializer.Start() in /Lean/Engine/Initializer.cs:line 48",
     "output_type": "error",
     "traceback": [
      "\u001b[0;31m---------------------------------------------------------------------------\u001b[0m",
      "\u001b[0;31mArgumentException\u001b[0m                         Traceback (most recent call last)",
      "File \u001b[0;32m/Lean/Launcher/bin/Debug/start.py:37\u001b[0m\n\u001b[1;32m     35\u001b[0m Config\u001b[39m.\u001b[39mSetConfigurationFile(\u001b[39m\"\u001b[39m\u001b[39mresearch_config.json\u001b[39m\u001b[39m\"\u001b[39m)\n\u001b[1;32m     36\u001b[0m Config\u001b[39m.\u001b[39mReset()\n\u001b[0;32m---> 37\u001b[0m Initializer\u001b[39m.\u001b[39;49mStart()\n\u001b[1;32m     38\u001b[0m api \u001b[39m=\u001b[39m Initializer\u001b[39m.\u001b[39mGetSystemHandlers()\u001b[39m.\u001b[39mApi\n\u001b[1;32m     39\u001b[0m algorithmHandlers \u001b[39m=\u001b[39m Initializer\u001b[39m.\u001b[39mGetAlgorithmHandlers(researchMode\u001b[39m=\u001b[39m\u001b[39mTrue\u001b[39;00m)\n",
      "\u001b[0;31mArgumentException\u001b[0m: Unable to locate any exports matching the requested typeName: QuantConnect.Logging.CompositeLogHandler (Parameter 'typeName')\n   at QuantConnect.Util.Composer.GetExportedValueByTypeName[T](String typeName, Boolean forceTypeNameOnExisting) in /Lean/Common/Util/Composer.cs:line 307\n   at QuantConnect.Lean.Engine.Initializer.Start() in /Lean/Engine/Initializer.cs:line 48"
     ]
    }
   ],
   "source": [
    "# Load in our startup script, required to set runtime for PythonNet\n",
    "%cd /Lean/Launcher/bin/Debug/\n",
    "%run start.py\n",
    "\n"
   ]
  },
  {
   "cell_type": "code",
   "execution_count": 4,
   "metadata": {},
   "outputs": [
    {
     "name": "stdout",
     "output_type": "stream",
     "text": [
      "20230317 04:06:34.082 TRACE:: QuantBook started; Is Python: True\n",
      "20230317 04:06:34.124 TRACE:: Config.GetValue(): api-data-update-period - Using default value: 1\n",
      "20230317 04:06:34.374 TRACE:: Config.GetValue(): qb-data-hour - Using default value: 9\n",
      "20230317 04:06:34.382 TRACE:: Config.Get(): Configuration key not found. Key: data-permission-manager - Using default value: DataPermissionManager\n",
      "20230317 04:06:34.383 TRACE:: Config.Get(): Configuration key not found. Key: results-destination-folder - Using default value: /Lean/Launcher/bin/Debug\n",
      "20230317 04:06:34.385 TRACE:: Config.Get(): Configuration key not found. Key: object-store-root - Using default value: ./storage\n",
      "20230317 04:06:34.386 TRACE:: Config.Get(): Configuration key not found. Key: results-destination-folder - Using default value: /Lean/Launcher/bin/Debug\n",
      "20230317 04:06:34.389 TRACE:: Config.Get(): Configuration key not found. Key: lean-manager-type - Using default value: LocalLeanManager\n",
      "20230317 04:06:34.392 TRACE:: Config.GetValue(): scheduled-event-leaky-bucket-capacity - Using default value: 120\n",
      "20230317 04:06:34.393 TRACE:: Config.GetValue(): scheduled-event-leaky-bucket-time-interval-minutes - Using default value: 1440\n",
      "20230317 04:06:34.394 TRACE:: Config.GetValue(): scheduled-event-leaky-bucket-refill-amount - Using default value: 18\n",
      "20230317 04:06:34.396 TRACE:: Config.GetValue(): algorithm-manager-time-loop-maximum - Using default value: 20\n",
      "20230317 04:06:34.397 TRACE:: Config.GetValue(): project-id - Using default value: 0\n",
      "20230317 04:06:34.401 TRACE:: Config.GetValue(): storage-limit - Using default value: 10737418240\n",
      "20230317 04:06:34.401 TRACE:: Config.GetValue(): storage-file-count - Using default value: 10000\n",
      "20230317 04:06:34.402 TRACE:: Config.GetValue(): storage-permissions - Using default value: 3\n",
      "20230317 04:06:34.403 TRACE:: LocalObjectStore.Initialize(): Storage Root: /Lean/Launcher/bin/Debug/storage. StorageFileCount 10000. StorageLimit 10240MB\n",
      "20230317 04:06:34.411 TRACE:: HistoryProviderManager.Initialize(): history providers [SubscriptionDataReaderHistoryProvider]\n",
      "20230317 04:06:34.415 TRACE:: Config.GetValue(): qb-data-hour - Using default value: 9\n",
      "20230317 04:06:34.422 TRACE:: Config.Get(): Configuration key not found. Key: data-permission-manager - Using default value: DataPermissionManager\n",
      "20230317 04:06:34.422 TRACE:: Config.Get(): Configuration key not found. Key: results-destination-folder - Using default value: /Lean/Launcher/bin/Debug\n",
      "20230317 04:06:34.424 TRACE:: Config.Get(): Configuration key not found. Key: object-store-root - Using default value: ./storage\n",
      "20230317 04:06:34.426 TRACE:: Config.Get(): Configuration key not found. Key: results-destination-folder - Using default value: /Lean/Launcher/bin/Debug\n",
      "20230317 04:06:34.430 TRACE:: Config.Get(): Configuration key not found. Key: lean-manager-type - Using default value: LocalLeanManager\n",
      "20230317 04:06:34.435 TRACE:: Config.GetValue(): algorithm-manager-time-loop-maximum - Using default value: 20\n",
      "20230317 04:06:34.436 TRACE:: Config.GetValue(): project-id - Using default value: 0\n",
      "20230317 04:06:34.440 TRACE:: Config.GetValue(): storage-limit - Using default value: 10737418240\n",
      "20230317 04:06:34.442 TRACE:: Config.GetValue(): storage-file-count - Using default value: 10000\n",
      "20230317 04:06:34.442 TRACE:: Config.GetValue(): storage-permissions - Using default value: 3\n",
      "20230317 04:06:34.443 TRACE:: LocalObjectStore.Initialize(): Storage Root: /Lean/Launcher/bin/Debug/storage. StorageFileCount 10000. StorageLimit 10240MB\n",
      "20230317 04:06:34.444 TRACE:: HistoryProviderManager.Initialize(): history providers [SubscriptionDataReaderHistoryProvider]\n"
     ]
    },
    {
     "name": "stderr",
     "output_type": "stream",
     "text": [
      "20230317 04:06:34.123 ERROR:: api-data-update-period\n",
      "20230317 04:06:34.128 ERROR:: data-provider\n",
      "20230317 04:06:34.129 ERROR:: map-file-provider\n",
      "20230317 04:06:34.373 ERROR:: qb-data-hour\n",
      "20230317 04:06:34.377 ERROR:: setup-handler\n",
      "20230317 04:06:34.378 ERROR:: transaction-handler\n",
      "20230317 04:06:34.378 ERROR:: real-time-handler\n",
      "20230317 04:06:34.379 ERROR:: data-feed-handler\n",
      "20230317 04:06:34.379 ERROR:: result-handler\n",
      "20230317 04:06:34.380 ERROR:: map-file-provider\n",
      "20230317 04:06:34.380 ERROR:: factor-file-provider\n",
      "20230317 04:06:34.381 ERROR:: data-provider\n",
      "20230317 04:06:34.381 ERROR:: alpha-handler\n",
      "20230317 04:06:34.381 ERROR:: object-store\n",
      "20230317 04:06:34.382 ERROR:: data-permission-manager\n",
      "20230317 04:06:34.383 ERROR:: results-destination-folder\n",
      "20230317 04:06:34.384 ERROR:: object-store-root\n",
      "20230317 04:06:34.385 ERROR:: live-mode\n",
      "20230317 04:06:34.386 ERROR:: results-destination-folder\n",
      "20230317 04:06:34.386 ERROR:: job-queue-handler\n",
      "20230317 04:06:34.387 ERROR:: live-mode\n",
      "20230317 04:06:34.387 ERROR:: algorithm-type-name\n",
      "20230317 04:06:34.388 ERROR:: algorithm-language\n",
      "20230317 04:06:34.388 ERROR:: api-handler\n",
      "20230317 04:06:34.389 ERROR:: messaging-handler\n",
      "20230317 04:06:34.389 ERROR:: lean-manager-type\n",
      "20230317 04:06:34.390 ERROR:: job-user-id\n",
      "20230317 04:06:34.390 ERROR:: api-access-token\n",
      "20230317 04:06:34.391 ERROR:: data-folder\n",
      "20230317 04:06:34.392 ERROR:: scheduled-event-leaky-bucket-capacity\n",
      "20230317 04:06:34.393 ERROR:: scheduled-event-leaky-bucket-time-interval-minutes\n",
      "20230317 04:06:34.393 ERROR:: scheduled-event-leaky-bucket-refill-amount\n",
      "20230317 04:06:34.395 ERROR:: algorithm-manager-time-loop-maximum\n",
      "20230317 04:06:34.396 ERROR:: project-id\n",
      "20230317 04:06:34.397 ERROR:: api-access-token\n",
      "20230317 04:06:34.398 ERROR:: job-user-id\n",
      "20230317 04:06:34.398 ERROR:: job-organization-id\n",
      "20230317 04:06:34.399 ERROR:: job-user-id\n",
      "20230317 04:06:34.399 ERROR:: api-access-token\n",
      "20230317 04:06:34.400 ERROR:: storage-limit\n",
      "20230317 04:06:34.401 ERROR:: storage-file-count\n",
      "20230317 04:06:34.402 ERROR:: storage-permissions\n",
      "20230317 04:06:34.408 ERROR:: history-provider\n",
      "20230317 04:06:34.412 ERROR:: data-provider\n",
      "20230317 04:06:34.413 ERROR:: map-file-provider\n",
      "20230317 04:06:34.414 ERROR:: qb-data-hour\n",
      "20230317 04:06:34.417 ERROR:: setup-handler\n",
      "20230317 04:06:34.418 ERROR:: transaction-handler\n",
      "20230317 04:06:34.418 ERROR:: real-time-handler\n",
      "20230317 04:06:34.418 ERROR:: data-feed-handler\n",
      "20230317 04:06:34.419 ERROR:: result-handler\n",
      "20230317 04:06:34.419 ERROR:: map-file-provider\n",
      "20230317 04:06:34.419 ERROR:: factor-file-provider\n",
      "20230317 04:06:34.420 ERROR:: data-provider\n",
      "20230317 04:06:34.420 ERROR:: alpha-handler\n",
      "20230317 04:06:34.421 ERROR:: object-store\n",
      "20230317 04:06:34.421 ERROR:: data-permission-manager\n",
      "20230317 04:06:34.422 ERROR:: results-destination-folder\n",
      "20230317 04:06:34.424 ERROR:: object-store-root\n",
      "20230317 04:06:34.425 ERROR:: live-mode\n",
      "20230317 04:06:34.425 ERROR:: results-destination-folder\n",
      "20230317 04:06:34.426 ERROR:: job-queue-handler\n",
      "20230317 04:06:34.426 ERROR:: live-mode\n",
      "20230317 04:06:34.427 ERROR:: algorithm-type-name\n",
      "20230317 04:06:34.427 ERROR:: algorithm-language\n",
      "20230317 04:06:34.428 ERROR:: api-handler\n",
      "20230317 04:06:34.429 ERROR:: messaging-handler\n",
      "20230317 04:06:34.429 ERROR:: lean-manager-type\n",
      "20230317 04:06:34.431 ERROR:: job-user-id\n",
      "20230317 04:06:34.431 ERROR:: api-access-token\n",
      "20230317 04:06:34.432 ERROR:: data-folder\n",
      "20230317 04:06:34.433 ERROR:: algorithm-manager-time-loop-maximum\n",
      "20230317 04:06:34.436 ERROR:: project-id\n",
      "20230317 04:06:34.437 ERROR:: api-access-token\n",
      "20230317 04:06:34.437 ERROR:: job-user-id\n",
      "20230317 04:06:34.438 ERROR:: job-organization-id\n",
      "20230317 04:06:34.438 ERROR:: job-user-id\n",
      "20230317 04:06:34.439 ERROR:: api-access-token\n",
      "20230317 04:06:34.439 ERROR:: storage-limit\n",
      "20230317 04:06:34.441 ERROR:: storage-file-count\n",
      "20230317 04:06:34.442 ERROR:: storage-permissions\n",
      "20230317 04:06:34.443 ERROR:: history-provider\n"
     ]
    }
   ],
   "source": [
    "# Create an instance of our QuantBook\n",
    "qb = QuantBook()"
   ]
  },
  {
   "cell_type": "markdown",
   "metadata": {},
   "source": [
    "### Using the Web API\n",
    "Our script `start.py` automatically loads an instance of the web API for you to use.**\n",
    "\n",
    "Look at Lean's [Api](https://github.com/QuantConnect/Lean/tree/master/Api) class for more functions to interact with the cloud\n",
    "\n",
    "\n",
    "##### **Note: This will only connect if you have your User ID and Api token in `config.json` \n"
   ]
  },
  {
   "cell_type": "code",
   "execution_count": 7,
   "metadata": {},
   "outputs": [
    {
     "ename": "NameError",
     "evalue": "name 'api' is not defined",
     "output_type": "error",
     "traceback": [
      "\u001b[0;31m---------------------------------------------------------------------------\u001b[0m",
      "\u001b[0;31mNameError\u001b[0m                                 Traceback (most recent call last)",
      "\u001b[1;32m/Lean/Research/MyTestQuantBook.ipynb Cell 6\u001b[0m in \u001b[0;36m2\n\u001b[1;32m      <a href='vscode-notebook-cell://dev-container%2B7b22686f737450617468223a222f55736572732f71696d6368652f4c65616e222c22636f6e66696746696c65223a7b22246d6964223a312c22667350617468223a222f55736572732f71696d6368652f4c65616e2f2e646576636f6e7461696e65722f646576636f6e7461696e65722e6a736f6e222c2265787465726e616c223a2266696c653a2f2f2f55736572732f71696d6368652f4c65616e2f2e646576636f6e7461696e65722f646576636f6e7461696e65722e6a736f6e222c2270617468223a222f55736572732f71696d6368652f4c65616e2f2e646576636f6e7461696e65722f646576636f6e7461696e65722e6a736f6e222c22736368656d65223a2266696c65227d7d/Lean/Research/MyTestQuantBook.ipynb#W5sdnNjb2RlLXJlbW90ZQ%3D%3D?line=0'>1</a>\u001b[0m \u001b[39m# Show that our api object is connected to the Web Api\u001b[39;00m\n\u001b[0;32m----> <a href='vscode-notebook-cell://dev-container%2B7b22686f737450617468223a222f55736572732f71696d6368652f4c65616e222c22636f6e66696746696c65223a7b22246d6964223a312c22667350617468223a222f55736572732f71696d6368652f4c65616e2f2e646576636f6e7461696e65722f646576636f6e7461696e65722e6a736f6e222c2265787465726e616c223a2266696c653a2f2f2f55736572732f71696d6368652f4c65616e2f2e646576636f6e7461696e65722f646576636f6e7461696e65722e6a736f6e222c2270617468223a222f55736572732f71696d6368652f4c65616e2f2e646576636f6e7461696e65722f646576636f6e7461696e65722e6a736f6e222c22736368656d65223a2266696c65227d7d/Lean/Research/MyTestQuantBook.ipynb#W5sdnNjb2RlLXJlbW90ZQ%3D%3D?line=1'>2</a>\u001b[0m \u001b[39mprint\u001b[39m(api\u001b[39m.\u001b[39mConnected)\n",
      "\u001b[0;31mNameError\u001b[0m: name 'api' is not defined"
     ]
    }
   ],
   "source": [
    "# Show that our api object is connected to the Web Api\n",
    "print(api.Connected)"
   ]
  },
  {
   "cell_type": "code",
   "execution_count": null,
   "metadata": {},
   "outputs": [],
   "source": [
    "# Get our list of projects from the cloud and print their names\n",
    "projectResponse = api.ListProjects()\n",
    "for project in projectResponse.Projects:\n",
    "    print(project.Name)"
   ]
  },
  {
   "cell_type": "markdown",
   "metadata": {},
   "source": [
    "### Selecting Asset Data\n",
    "Checkout the QuantConnect [docs](https://www.quantconnect.com/docs#Initializing-Algorithms-Selecting-Asset-Data) to learn how to select asset data."
   ]
  },
  {
   "cell_type": "code",
   "execution_count": null,
   "metadata": {},
   "outputs": [],
   "source": [
    "spy = qb.AddEquity(\"SPY\")\n",
    "eur = qb.AddForex(\"EURUSD\")\n",
    "btc = qb.AddCrypto(\"BTCUSD\")\n",
    "fxv = qb.AddData[FxcmVolume](\"EURUSD_Vol\", Resolution.Hour)"
   ]
  },
  {
   "cell_type": "markdown",
   "metadata": {},
   "source": [
    "### Historical Data Requests\n",
    "\n",
    "We can use the QuantConnect API to make Historical Data Requests. The data will be presented as multi-index pandas.DataFrame where the first index is the Symbol.\n",
    "\n",
    "For more information, please follow the [link](https://www.quantconnect.com/docs#Historical-Data-Historical-Data-Requests)."
   ]
  },
  {
   "cell_type": "code",
   "execution_count": null,
   "metadata": {
    "scrolled": true
   },
   "outputs": [],
   "source": [
    "# Gets historical data from the subscribed assets, the last 360 datapoints with daily resolution\n",
    "h1 = qb.History(qb.Securities.Keys, 360, Resolution.Daily)"
   ]
  },
  {
   "cell_type": "code",
   "execution_count": null,
   "metadata": {},
   "outputs": [],
   "source": [
    "# Plot closing prices from \"SPY\" \n",
    "h1.loc[\"SPY\"][\"close\"].plot()"
   ]
  },
  {
   "cell_type": "code",
   "execution_count": null,
   "metadata": {},
   "outputs": [],
   "source": [
    "# Gets historical data from the subscribed assets, from the last 30 days with daily resolution\n",
    "h2 = qb.History(qb.Securities.Keys, datetime(2014,1,1), datetime.now(), Resolution.Daily)"
   ]
  },
  {
   "cell_type": "code",
   "execution_count": null,
   "metadata": {},
   "outputs": [],
   "source": [
    "# Plot high prices from \"EURUSD\" \n",
    "h2.loc[\"EURUSD\"][\"high\"].plot()"
   ]
  },
  {
   "cell_type": "code",
   "execution_count": null,
   "metadata": {},
   "outputs": [],
   "source": [
    "# Gets historical data from the subscribed assets, between two dates with daily resolution\n",
    "h3 = qb.History([btc.Symbol], datetime(2014,1,1), datetime.now(), Resolution.Daily)"
   ]
  },
  {
   "cell_type": "code",
   "execution_count": null,
   "metadata": {},
   "outputs": [],
   "source": [
    "# Plot closing prices from \"BTCUSD\" \n",
    "h3.loc[\"BTCUSD\"][\"close\"].plot()"
   ]
  },
  {
   "cell_type": "code",
   "execution_count": null,
   "metadata": {},
   "outputs": [],
   "source": [
    "# Only fetchs historical data from a desired symbol\n",
    "# NOTE: This will return empty when ran locally because this data is not included\n",
    "h4 = qb.History([spy.Symbol], timedelta(360), Resolution.Daily)\n",
    "# or qb.History([\"SPY\"], 360, Resolution.Daily)"
   ]
  },
  {
   "cell_type": "code",
   "execution_count": null,
   "metadata": {},
   "outputs": [],
   "source": [
    "# Only fetchs historical data from a desired symbol\n",
    "# NOTE: This will return empty when ran locally because this data is not included\n",
    "h5 = qb.History([eur.Symbol], timedelta(30), Resolution.Daily)\n",
    "# or qb.History([\"EURUSD\"], 30, Resolution.Daily)"
   ]
  },
  {
   "cell_type": "markdown",
   "metadata": {},
   "source": [
    "### Historical Options Data Requests\n",
    "- Select the option data\n",
    "- Sets the filter, otherwise the default will be used SetFilter(-1, 1, timedelta(0), timedelta(35))\n",
    "- Get the OptionHistory, an object that has information about the historical options data"
   ]
  },
  {
   "cell_type": "code",
   "execution_count": null,
   "metadata": {},
   "outputs": [],
   "source": [
    "goog = qb.AddOption(\"GOOG\")\n",
    "goog.SetFilter(-2, 2, timedelta(0), timedelta(180))"
   ]
  },
  {
   "cell_type": "code",
   "execution_count": null,
   "metadata": {},
   "outputs": [],
   "source": [
    "option_history = qb.GetOptionHistory(goog.Symbol, datetime(2015, 12, 24))\n",
    "print (option_history.GetStrikes())\n",
    "print (option_history.GetExpiryDates())\n",
    "h7 = option_history.GetAllData()"
   ]
  },
  {
   "cell_type": "markdown",
   "metadata": {},
   "source": [
    "### Historical Future Data Requests\n",
    "- Select the future data\n",
    "- Sets the filter, otherwise the default will be used SetFilter(timedelta(0), timedelta(35))\n",
    "- Get the FutureHistory, an object that has information about the historical future data"
   ]
  },
  {
   "cell_type": "code",
   "execution_count": null,
   "metadata": {
    "scrolled": true
   },
   "outputs": [],
   "source": [
    "es = qb.AddFuture(\"ES\")\n",
    "es.SetFilter(timedelta(0), timedelta(180))"
   ]
  },
  {
   "cell_type": "code",
   "execution_count": null,
   "metadata": {},
   "outputs": [],
   "source": [
    "future_history = qb.GetFutureHistory(es.Symbol, datetime(2013, 10, 7))\n",
    "print (future_history.GetExpiryDates())\n",
    "h7 = future_history.GetAllData()"
   ]
  },
  {
   "cell_type": "markdown",
   "metadata": {},
   "source": [
    "### Get Fundamental Data\n",
    "\n",
    "- *GetFundamental([symbol], selector, start_date = datetime(1998,1,1), end_date = datetime.now())*\n",
    "\n",
    "We will get a pandas.DataFrame with fundamental data."
   ]
  },
  {
   "cell_type": "code",
   "execution_count": null,
   "metadata": {},
   "outputs": [],
   "source": [
    "data = qb.GetFundamental([\"AAPL\",\"AIG\",\"BAC\",\"GOOG\",\"IBM\"], \"ValuationRatios.PERatio\")\n",
    "data"
   ]
  },
  {
   "cell_type": "markdown",
   "metadata": {},
   "source": [
    "### Indicators\n",
    "\n",
    "We can easily get the indicator of a given symbol with QuantBook. \n",
    "\n",
    "For all indicators, please checkout QuantConnect Indicators [Reference Table](https://www.quantconnect.com/docs#Indicators-Reference-Table)"
   ]
  },
  {
   "cell_type": "code",
   "execution_count": null,
   "metadata": {},
   "outputs": [],
   "source": [
    "# Example with BB, it is a datapoint indicator\n",
    "# Define the indicator\n",
    "bb = BollingerBands(30, 2)\n",
    "\n",
    "# Gets historical data of indicator\n",
    "bbdf = qb.Indicator(bb, \"SPY\", 360, Resolution.Daily)\n",
    "\n",
    "# drop undesired fields\n",
    "bbdf = bbdf.drop('standarddeviation', 1)\n",
    "\n",
    "# Plot\n",
    "bbdf.plot()"
   ]
  },
  {
   "cell_type": "code",
   "execution_count": null,
   "metadata": {},
   "outputs": [],
   "source": [
    "# For EURUSD\n",
    "bbdf = qb.Indicator(bb, \"EURUSD\", 360, Resolution.Daily)\n",
    "bbdf = bbdf.drop('standarddeviation', 1)\n",
    "bbdf.plot()"
   ]
  },
  {
   "cell_type": "code",
   "execution_count": null,
   "metadata": {},
   "outputs": [],
   "source": [
    "# Example with ADX, it is a bar indicator\n",
    "adx = AverageDirectionalIndex(\"adx\", 14)\n",
    "adxdf = qb.Indicator(adx, \"SPY\", 360, Resolution.Daily)\n",
    "adxdf.plot()"
   ]
  },
  {
   "cell_type": "code",
   "execution_count": null,
   "metadata": {},
   "outputs": [],
   "source": [
    "# For EURUSD\n",
    "adxdf = qb.Indicator(adx, \"EURUSD\", 360, Resolution.Daily)\n",
    "adxdf.plot()"
   ]
  },
  {
   "cell_type": "code",
   "execution_count": null,
   "metadata": {},
   "outputs": [],
   "source": [
    "# Example with ADO, it is a tradebar indicator (requires volume in its calculation)\n",
    "ado = AccumulationDistributionOscillator(\"ado\", 5, 30)\n",
    "adodf = qb.Indicator(ado, \"SPY\", 360, Resolution.Daily)\n",
    "adodf.plot()"
   ]
  },
  {
   "cell_type": "code",
   "execution_count": null,
   "metadata": {},
   "outputs": [],
   "source": [
    "# For EURUSD. \n",
    "# Uncomment to check that this SHOULD fail, since Forex is data type is not TradeBar.\n",
    "# adodf = qb.Indicator(ado, \"EURUSD\", 360, Resolution.Daily)\n",
    "# adodf.plot()"
   ]
  },
  {
   "cell_type": "code",
   "execution_count": null,
   "metadata": {},
   "outputs": [],
   "source": [
    "# SMA cross:\n",
    "symbol = \"EURUSD\"\n",
    "# Get History \n",
    "hist = qb.History([symbol], 500, Resolution.Daily)\n",
    "# Get the fast moving average\n",
    "fast = qb.Indicator(SimpleMovingAverage(50), symbol, 500, Resolution.Daily)\n",
    "# Get the fast moving average\n",
    "slow = qb.Indicator(SimpleMovingAverage(200), symbol, 500, Resolution.Daily)\n",
    "\n",
    "# Remove undesired columns and rename others \n",
    "fast = fast.drop('rollingsum', 1).rename(columns={'simplemovingaverage': 'fast'})\n",
    "slow = slow.drop('rollingsum', 1).rename(columns={'simplemovingaverage': 'slow'})\n",
    "\n",
    "# Concatenate the information and plot \n",
    "df = pd.concat([hist.loc[symbol][\"close\"], fast, slow], axis=1).dropna(axis=0)\n",
    "df.plot()"
   ]
  },
  {
   "cell_type": "code",
   "execution_count": null,
   "metadata": {},
   "outputs": [],
   "source": [
    "# Get indicator defining a lookback period in terms of timedelta\n",
    "ema1 = qb.Indicator(ExponentialMovingAverage(50), \"SPY\", timedelta(100), Resolution.Daily)\n",
    "# Get indicator defining a start and end date\n",
    "ema2 = qb.Indicator(ExponentialMovingAverage(50), \"SPY\", datetime(2016,1,1), datetime(2016,10,1), Resolution.Daily)\n",
    "\n",
    "ema = pd.concat([ema1, ema2], axis=1)\n",
    "ema.plot()"
   ]
  },
  {
   "cell_type": "code",
   "execution_count": null,
   "metadata": {},
   "outputs": [],
   "source": [
    "rsi = RelativeStrengthIndex(14)\n",
    "\n",
    "# Selects which field we want to use in our indicator (default is Field.Close)\n",
    "rsihi = qb.Indicator(rsi, \"SPY\", 360, Resolution.Daily, Field.High)\n",
    "rsilo = qb.Indicator(rsi, \"SPY\", 360, Resolution.Daily, Field.Low)\n",
    "rsihi = rsihi.rename(columns={'relativestrengthindex': 'high'})\n",
    "rsilo = rsilo.rename(columns={'relativestrengthindex': 'low'})\n",
    "rsi = pd.concat([rsihi['high'], rsilo['low']], axis=1)\n",
    "rsi.plot()"
   ]
  }
 ],
 "metadata": {
  "kernelspec": {
   "display_name": "Foundation-Pomegranate",
   "language": "python",
   "name": "foundation-pomegranate"
  },
  "language_info": {
   "codemirror_mode": {
    "name": "ipython",
    "version": 3
   },
   "file_extension": ".py",
   "mimetype": "text/x-python",
   "name": "python",
   "nbconvert_exporter": "python",
   "pygments_lexer": "ipython3",
   "version": "3.8.13"
  }
 },
 "nbformat": 4,
 "nbformat_minor": 4
}
