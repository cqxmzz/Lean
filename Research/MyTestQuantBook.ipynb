{
 "cells": [
  {
   "cell_type": "code",
   "execution_count": 2,
   "metadata": {},
   "outputs": [
    {
     "name": "stdout",
     "output_type": "stream",
     "text": [
      "/Lean/Launcher/bin/Debug\n",
      "20230321 00:38:41.881 TRACE:: Using research_config.json as configuration file\n",
      "20230321 00:38:41.888 TRACE:: Config.GetValue(): debug-mode - Using default value: False\n",
      "20230321 00:38:41.888 TRACE:: Config.Get(): Configuration key not found. Key: results-destination-folder - Using default value: \n"
     ]
    },
    {
     "ename": "ArgumentException",
     "evalue": "Unable to locate any exports matching the requested typeName: QuantConnect.Logging.CompositeLogHandler (Parameter 'typeName')\n   at QuantConnect.Util.Composer.GetExportedValueByTypeName[T](String typeName, Boolean forceTypeNameOnExisting) in /Lean/Common/Util/Composer.cs:line 307\n   at QuantConnect.Lean.Engine.Initializer.Start() in /Lean/Engine/Initializer.cs:line 48",
     "output_type": "error",
     "traceback": [
      "\u001b[0;31m---------------------------------------------------------------------------\u001b[0m",
      "\u001b[0;31mArgumentException\u001b[0m                         Traceback (most recent call last)",
      "File \u001b[0;32m/Lean/Launcher/bin/Debug/start.py:37\u001b[0m\n\u001b[1;32m     35\u001b[0m Config\u001b[39m.\u001b[39mSetConfigurationFile(\u001b[39m\"\u001b[39m\u001b[39mresearch_config.json\u001b[39m\u001b[39m\"\u001b[39m)\n\u001b[1;32m     36\u001b[0m Config\u001b[39m.\u001b[39mReset()\n\u001b[0;32m---> 37\u001b[0m Initializer\u001b[39m.\u001b[39;49mStart()\n\u001b[1;32m     38\u001b[0m api \u001b[39m=\u001b[39m Initializer\u001b[39m.\u001b[39mGetSystemHandlers()\u001b[39m.\u001b[39mApi\n\u001b[1;32m     39\u001b[0m algorithmHandlers \u001b[39m=\u001b[39m Initializer\u001b[39m.\u001b[39mGetAlgorithmHandlers(researchMode\u001b[39m=\u001b[39m\u001b[39mTrue\u001b[39;00m)\n",
      "\u001b[0;31mArgumentException\u001b[0m: Unable to locate any exports matching the requested typeName: QuantConnect.Logging.CompositeLogHandler (Parameter 'typeName')\n   at QuantConnect.Util.Composer.GetExportedValueByTypeName[T](String typeName, Boolean forceTypeNameOnExisting) in /Lean/Common/Util/Composer.cs:line 307\n   at QuantConnect.Lean.Engine.Initializer.Start() in /Lean/Engine/Initializer.cs:line 48"
     ]
    }
   ],
   "source": [
    "# Load in our startup script, required to set runtime for PythonNet\n",
    "%cd /Lean/Launcher/bin/Debug/\n",
    "%run start.py"
   ]
  },
  {
   "cell_type": "code",
   "execution_count": 2,
   "metadata": {},
   "outputs": [
    {
     "name": "stdout",
     "output_type": "stream",
     "text": [
      "20230317 07:04:42.685 TRACE:: QuantBook started; Is Python: True\n",
      "20230317 07:04:42.721 TRACE:: Config.GetValue(): api-data-update-period - Using default value: 1\n",
      "20230317 07:04:42.872 TRACE:: Config.GetValue(): qb-data-hour - Using default value: 9\n",
      "20230317 07:04:42.876 TRACE:: Config.Get(): Configuration key not found. Key: data-permission-manager - Using default value: DataPermissionManager\n",
      "20230317 07:04:42.876 TRACE:: Config.Get(): Configuration key not found. Key: results-destination-folder - Using default value: /Lean/Launcher/bin/Debug\n",
      "20230317 07:04:42.878 TRACE:: Config.GetValue(): data-purchase-limit - Using default value: 79228162514264337593543950335\n",
      "20230317 07:04:43.301 TRACE:: ApiDataProvider(): Will use organization Id '3c32e00f5007588009f1b72e38ee40a2'.\n",
      "20230317 07:04:44.408 TRACE:: ApiDataProvider(): Data Terms of Use has been signed. \n",
      " Find full agreement at: https://www.quantconnect.com/terms/data/?organization=3c32e00f5007588009f1b72e38ee40a2 \n",
      "==========================================================================\n",
      "CLI API Access Agreement: On 3/17/2023 You Agreed:\n",
      " - Display or distribution of data obtained through CLI API Access is not permitted.  \n",
      " - Data and Third Party Data obtained via CLI API Access can only be used for individual or internal employee's use.\n",
      " - Data is provided in LEAN format can not be manipulated for transmission or use in other applications. \n",
      " - QuantConnect is not liable for the quality of data received and is not responsible for trading losses. \n",
      "==========================================================================\n",
      "20230317 07:04:47.417 TRACE:: Config.Get(): Configuration key not found. Key: object-store-root - Using default value: ./storage\n",
      "20230317 07:04:47.421 TRACE:: Config.Get(): Configuration key not found. Key: results-destination-folder - Using default value: /Lean/Launcher/bin/Debug\n",
      "20230317 07:04:47.426 TRACE:: Config.Get(): Configuration key not found. Key: lean-manager-type - Using default value: LocalLeanManager\n",
      "20230317 07:04:47.430 TRACE:: Config.GetValue(): scheduled-event-leaky-bucket-capacity - Using default value: 120\n",
      "20230317 07:04:47.432 TRACE:: Config.GetValue(): scheduled-event-leaky-bucket-time-interval-minutes - Using default value: 1440\n",
      "20230317 07:04:47.435 TRACE:: Config.GetValue(): scheduled-event-leaky-bucket-refill-amount - Using default value: 18\n",
      "20230317 07:04:47.439 TRACE:: Config.GetValue(): algorithm-manager-time-loop-maximum - Using default value: 20\n",
      "20230317 07:04:47.441 TRACE:: Config.GetValue(): project-id - Using default value: 0\n",
      "20230317 07:04:47.442 TRACE:: Config.GetValue(): storage-limit - Using default value: 10737418240\n",
      "20230317 07:04:47.442 TRACE:: Config.GetValue(): storage-file-count - Using default value: 10000\n",
      "20230317 07:04:47.443 TRACE:: Config.GetValue(): storage-permissions - Using default value: 3\n",
      "20230317 07:04:47.444 TRACE:: LocalObjectStore.Initialize(): Storage Root: /Lean/Launcher/bin/Debug/storage. StorageFileCount 10000. StorageLimit 10240MB\n",
      "20230317 07:04:47.450 TRACE:: HistoryProviderManager.Initialize(): history providers [SubscriptionDataReaderHistoryProvider]\n",
      "20230317 07:04:47.453 TRACE:: Config.GetValue(): qb-data-hour - Using default value: 9\n",
      "20230317 07:04:47.455 TRACE:: Config.Get(): Configuration key not found. Key: data-permission-manager - Using default value: DataPermissionManager\n",
      "20230317 07:04:47.456 TRACE:: Config.Get(): Configuration key not found. Key: results-destination-folder - Using default value: /Lean/Launcher/bin/Debug\n",
      "20230317 07:04:47.456 TRACE:: Config.GetValue(): data-purchase-limit - Using default value: 79228162514264337593543950335\n",
      "20230317 07:04:47.902 TRACE:: ApiDataProvider(): Will use organization Id '3c32e00f5007588009f1b72e38ee40a2'.\n",
      "20230317 07:04:49.016 TRACE:: ApiDataProvider(): Data Terms of Use has been signed. \n",
      " Find full agreement at: https://www.quantconnect.com/terms/data/?organization=3c32e00f5007588009f1b72e38ee40a2 \n",
      "==========================================================================\n",
      "CLI API Access Agreement: On 3/17/2023 You Agreed:\n",
      " - Display or distribution of data obtained through CLI API Access is not permitted.  \n",
      " - Data and Third Party Data obtained via CLI API Access can only be used for individual or internal employee's use.\n",
      " - Data is provided in LEAN format can not be manipulated for transmission or use in other applications. \n",
      " - QuantConnect is not liable for the quality of data received and is not responsible for trading losses. \n",
      "==========================================================================\n",
      "20230317 07:04:52.027 TRACE:: Config.Get(): Configuration key not found. Key: object-store-root - Using default value: ./storage\n",
      "20230317 07:04:52.038 TRACE:: Config.Get(): Configuration key not found. Key: results-destination-folder - Using default value: /Lean/Launcher/bin/Debug\n",
      "20230317 07:04:52.043 TRACE:: Config.Get(): Configuration key not found. Key: lean-manager-type - Using default value: LocalLeanManager\n",
      "20230317 07:04:52.047 TRACE:: Config.GetValue(): algorithm-manager-time-loop-maximum - Using default value: 20\n",
      "20230317 07:04:52.052 TRACE:: Config.GetValue(): project-id - Using default value: 0\n",
      "20230317 07:04:52.055 TRACE:: Config.GetValue(): storage-limit - Using default value: 10737418240\n",
      "20230317 07:04:52.056 TRACE:: Config.GetValue(): storage-file-count - Using default value: 10000\n",
      "20230317 07:04:52.057 TRACE:: Config.GetValue(): storage-permissions - Using default value: 3\n",
      "20230317 07:04:52.057 TRACE:: LocalObjectStore.Initialize(): Storage Root: /Lean/Launcher/bin/Debug/storage. StorageFileCount 10000. StorageLimit 10240MB\n",
      "20230317 07:04:52.058 TRACE:: HistoryProviderManager.Initialize(): history providers [SubscriptionDataReaderHistoryProvider]\n"
     ]
    }
   ],
   "source": [
    "# Create an instance of our QuantBook\n",
    "qb = QuantBook()"
   ]
  },
  {
   "cell_type": "markdown",
   "metadata": {},
   "source": [
    "### Using the Web API\n",
    "Our script `start.py` automatically loads an instance of the web API for you to use.**\n",
    "\n",
    "Look at Lean's [Api](https://github.com/QuantConnect/Lean/tree/master/Api) class for more functions to interact with the cloud\n",
    "\n",
    "\n",
    "##### **Note: This will only connect if you have your User ID and Api token in `config.json` \n"
   ]
  },
  {
   "cell_type": "code",
   "execution_count": null,
   "metadata": {},
   "outputs": [],
   "source": []
  },
  {
   "cell_type": "code",
   "execution_count": 3,
   "metadata": {},
   "outputs": [
    {
     "name": "stdout",
     "output_type": "stream",
     "text": [
      "True\n"
     ]
    }
   ],
   "source": [
    "# Show that our api object is connected to the Web Api\n",
    "print(api.Connected)"
   ]
  },
  {
   "cell_type": "code",
   "execution_count": 4,
   "metadata": {},
   "outputs": [
    {
     "name": "stdout",
     "output_type": "stream",
     "text": [
      "clone of qa dynamic turtle v10 1\n",
      "clone of qa dynamic turtle v10\n",
      "Test1\n",
      "Boot Camp/Py/Boot Camp 101/US Equities/Liquid Value Stocks/Using Fundamental Data to Emit Insights\n",
      "Boot Camp/Py/Boot Camp 101/US Equities/Liquid Value Stocks/Requesting a Fundamental Universe\n",
      "Boot Camp/Py/Boot Camp 101/US Equities/Liquid Value Stocks/Introduction Video\n",
      "Boot Camp/Py/Boot Camp 101/US Equities/The Algorithm Framework/Execution Model\n",
      "Boot Camp/Py/Boot Camp 101/US Equities/The Algorithm Framework/Risk Model\n",
      "Boot Camp/Py/Boot Camp 101/US Equities/The Algorithm Framework/Portfolio Construction Model\n",
      "Boot Camp/Py/Boot Camp 101/US Equities/The Algorithm Framework/Alpha Model\n",
      "Boot Camp/Py/Boot Camp 101/US Equities/The Algorithm Framework/Universe Selection Model\n",
      "Boot Camp/Py/Boot Camp 101/US Equities/The Algorithm Framework/Framework Overview\n",
      "Boot Camp/Py/Boot Camp 101/US Equities/The Algorithm Framework/Introduction Video\n",
      "Boot Camp/Py/Boot Camp 101/US Equities/20050 EMA Momentum Universe/Preparing Indicators with History\n",
      "Boot Camp/Py/Boot Camp 101/US Equities/20050 EMA Momentum Universe/Applying Class In Universe\n",
      "Boot Camp/Py/Boot Camp 101/US Equities/20050 EMA Momentum Universe/Grouping Data with Classes\n",
      "Boot Camp/Py/Boot Camp 101/US Equities/20050 EMA Momentum Universe/Laying Our Universe Foundation\n",
      "Boot Camp/Py/Boot Camp 101/US Equities/20050 EMA Momentum Universe/Introduction Video\n",
      "Boot Camp/Py/Boot Camp 101/US Equities/Fading The Gap/Reducing a Parameter\n",
      "Boot Camp/Py/Boot Camp 101/US Equities/Fading The Gap/Accessing a Rolling Window\n",
      "Boot Camp/Py/Boot Camp 101/US Equities/Fading The Gap/Creating a Rolling Window\n",
      "Boot Camp/Py/Boot Camp 101/US Equities/Fading The Gap/Creating Scheduled Events\n",
      "Boot Camp/Py/Boot Camp 101/US Equities/Fading The Gap/Introduction Video\n",
      "Boot Camp/Py/Boot Camp 101/US Equities/Liquid Universe Selection/Customizing Universe Settings\n",
      "Boot Camp/Py/Boot Camp 101/US Equities/Liquid Universe Selection/Building Our Portfolio\n",
      "Boot Camp/Py/Boot Camp 101/US Equities/Liquid Universe Selection/Tracking Security Changes\n",
      "Boot Camp/Py/Boot Camp 101/US Equities/Liquid Universe Selection/Understanding Coarse Fundamental Objects\n",
      "Boot Camp/Py/Boot Camp 101/US Equities/Liquid Universe Selection/Setting Up a Coarse Universe Filter\n",
      "Boot Camp/Py/Boot Camp 101/US Equities/Liquid Universe Selection/Introduction Video\n",
      "Boot Camp/Py/Boot Camp 101/US Equities/Opening Range Breakout/Scheduling Events\n",
      "Boot Camp/Py/Boot Camp 101/US Equities/Opening Range Breakout/Using the Output of the Consolidator\n",
      "Boot Camp/Py/Boot Camp 101/US Equities/Opening Range Breakout/Bar Data and Bar Time\n",
      "Boot Camp/Py/Boot Camp 101/US Equities/Opening Range Breakout/Creating a Consolidator\n",
      "Boot Camp/Py/Boot Camp 101/US Equities/Opening Range Breakout/Introduction Video\n",
      "Boot Camp/Py/Boot Camp 101/US Equities/MomentumBased Tactical Allocation/Time Our Market Moves\n",
      "Boot Camp/Py/Boot Camp 101/US Equities/MomentumBased Tactical Allocation/Using our Signal to Flip\n",
      "Boot Camp/Py/Boot Camp 101/US Equities/MomentumBased Tactical Allocation/Preparing an Indicator for Testing\n",
      "Boot Camp/Py/Boot Camp 101/US Equities/MomentumBased Tactical Allocation/Using a Momentum Percentage Indicator\n",
      "Boot Camp/Py/Boot Camp 101/US Equities/MomentumBased Tactical Allocation/Setting Up Tactical Asset Allocation\n",
      "Boot Camp/Py/Boot Camp 101/US Equities/MomentumBased Tactical Allocation/Introduction Video\n",
      "Boot Camp/Py/Boot Camp 101/US Equities/Buy and Hold with a Trailing Stop/Visualizing the Stop Levels\n",
      "Boot Camp/Py/Boot Camp 101/US Equities/Buy and Hold with a Trailing Stop/Creating a Trailing Stop Loss\n",
      "Boot Camp/Py/Boot Camp 101/US Equities/Buy and Hold with a Trailing Stop/Identifying a Stop Loss Hit\n",
      "Boot Camp/Py/Boot Camp 101/US Equities/Buy and Hold with a Trailing Stop/Understanding Order Events\n",
      "Boot Camp/Py/Boot Camp 101/US Equities/Buy and Hold with a Trailing Stop/Setting up a Stop Market Order\n",
      "Boot Camp/Py/Boot Camp 101/US Equities/Buy and Hold with a Trailing Stop/Introduction Video\n",
      "Boot Camp/Py/Boot Camp 101/US Equities/Buy and Hold/Equities/Placing Orders\n",
      "Boot Camp/Py/Boot Camp 101/US Equities/Buy and Hold/Equities/Checking Holdings\n",
      "Boot Camp/Py/Boot Camp 101/US Equities/Buy and Hold/Equities/Set Data Normalization Mode\n",
      "Boot Camp/Py/Boot Camp 101/US Equities/Buy and Hold/Equities/Manually Selecting Data\n",
      "Boot Camp/Py/Boot Camp 101/US Equities/Buy and Hold/Equities/Set Date Range\n",
      "Boot Camp/Py/Boot Camp 101/US Equities/Buy and Hold/Equities/Set Starting Cash\n",
      "Boot Camp/Py/Boot Camp 101/US Equities/Buy and Hold/Equities/Introduction Video\n"
     ]
    }
   ],
   "source": [
    "# Get our list of projects from the cloud and print their names\n",
    "projectResponse = api.ListProjects()\n",
    "for project in projectResponse.Projects:\n",
    "    print(project.Name)"
   ]
  },
  {
   "cell_type": "markdown",
   "metadata": {},
   "source": [
    "### Selecting Asset Data\n",
    "Checkout the QuantConnect [docs](https://www.quantconnect.com/docs#Initializing-Algorithms-Selecting-Asset-Data) to learn how to select asset data."
   ]
  },
  {
   "cell_type": "code",
   "execution_count": 5,
   "metadata": {},
   "outputs": [
    {
     "name": "stdout",
     "output_type": "stream",
     "text": [
      "20230317 07:05:05.261 TRACE:: Api.DownloadData(): Failed to get link for ../../../Data/equity/usa/map_files/map_files_20230316.zip. Errors: File not found: equity/usa/map_files/map_files_20230316.zip\n",
      "20230317 07:05:05.716 TRACE:: Api.DownloadData(): Failed to get link for ../../../Data/equity/usa/map_files/map_files_20230315.zip. Errors: This data is available for download but is not usable without first having subscription to 'US Equity Security Master by QuantConnect - Bulk Download'. To continue downloading data please obtain a subscription to 'US Equity Security Master by QuantConnect - Bulk Download' from the QuantConnect Pricing page.\n",
      "20230317 07:05:06.235 TRACE:: Api.DownloadData(): Failed to get link for ../../../Data/equity/usa/map_files/map_files_20230314.zip. Errors: This data is available for download but is not usable without first having subscription to 'US Equity Security Master by QuantConnect - Bulk Download'. To continue downloading data please obtain a subscription to 'US Equity Security Master by QuantConnect - Bulk Download' from the QuantConnect Pricing page.\n",
      "20230317 07:05:06.707 TRACE:: Api.DownloadData(): Failed to get link for ../../../Data/equity/usa/map_files/map_files_20230313.zip. Errors: This data is available for download but is not usable without first having subscription to 'US Equity Security Master by QuantConnect - Bulk Download'. To continue downloading data please obtain a subscription to 'US Equity Security Master by QuantConnect - Bulk Download' from the QuantConnect Pricing page.\n",
      "20230317 07:05:07.175 TRACE:: Api.DownloadData(): Failed to get link for ../../../Data/equity/usa/map_files/map_files_20230312.zip. Errors: File not found: equity/usa/map_files/map_files_20230312.zip\n",
      "20230317 07:05:07.669 TRACE:: Api.DownloadData(): Failed to get link for ../../../Data/equity/usa/map_files/map_files_20230311.zip. Errors: File not found: equity/usa/map_files/map_files_20230311.zip\n",
      "20230317 07:05:08.135 TRACE:: Api.DownloadData(): Failed to get link for ../../../Data/equity/usa/map_files/map_files_20230310.zip. Errors: This data is available for download but is not usable without first having subscription to 'US Equity Security Master by QuantConnect - Bulk Download'. To continue downloading data please obtain a subscription to 'US Equity Security Master by QuantConnect - Bulk Download' from the QuantConnect Pricing page.\n",
      "20230317 07:05:08.668 TRACE:: Api.DownloadData(): Failed to get link for ../../../Data/equity/usa/map_files/map_files_20230309.zip. Errors: This data is available for download but is not usable without first having subscription to 'US Equity Security Master by QuantConnect - Bulk Download'. To continue downloading data please obtain a subscription to 'US Equity Security Master by QuantConnect - Bulk Download' from the QuantConnect Pricing page.\n",
      "20230317 07:05:09.147 TRACE:: Api.DownloadData(): Failed to get link for ../../../Data/equity/usa/map_files/map_files_20230308.zip. Errors: This data is available for download but is not usable without first having subscription to 'US Equity Security Master by QuantConnect - Bulk Download'. To continue downloading data please obtain a subscription to 'US Equity Security Master by QuantConnect - Bulk Download' from the QuantConnect Pricing page.\n",
      "20230317 07:05:09.600 TRACE:: Api.DownloadData(): Failed to get link for ../../../Data/equity/usa/map_files/map_files_20230307.zip. Errors: This data is available for download but is not usable without first having subscription to 'US Equity Security Master by QuantConnect - Bulk Download'. To continue downloading data please obtain a subscription to 'US Equity Security Master by QuantConnect - Bulk Download' from the QuantConnect Pricing page.\n",
      "20230317 07:05:10.067 TRACE:: Api.DownloadData(): Failed to get link for ../../../Data/equity/usa/map_files/map_files_20230306.zip. Errors: This data is available for download but is not usable without first having subscription to 'US Equity Security Master by QuantConnect - Bulk Download'. To continue downloading data please obtain a subscription to 'US Equity Security Master by QuantConnect - Bulk Download' from the QuantConnect Pricing page.\n",
      "20230317 07:05:10.507 TRACE:: Api.DownloadData(): Failed to get link for ../../../Data/equity/usa/map_files/map_files_20230305.zip. Errors: File not found: equity/usa/map_files/map_files_20230305.zip\n",
      "20230317 07:05:10.996 TRACE:: Api.DownloadData(): Failed to get link for ../../../Data/equity/usa/map_files/map_files_20230304.zip. Errors: File not found: equity/usa/map_files/map_files_20230304.zip\n",
      "20230317 07:05:11.463 TRACE:: Api.DownloadData(): Failed to get link for ../../../Data/equity/usa/map_files/map_files_20230303.zip. Errors: This data is available for download but is not usable without first having subscription to 'US Equity Security Master by QuantConnect - Bulk Download'. To continue downloading data please obtain a subscription to 'US Equity Security Master by QuantConnect - Bulk Download' from the QuantConnect Pricing page.\n",
      "20230317 07:05:11.927 TRACE:: Api.DownloadData(): Failed to get link for ../../../Data/equity/usa/map_files/map_files_20230302.zip. Errors: This data is available for download but is not usable without first having subscription to 'US Equity Security Master by QuantConnect - Bulk Download'. To continue downloading data please obtain a subscription to 'US Equity Security Master by QuantConnect - Bulk Download' from the QuantConnect Pricing page.\n",
      "20230317 07:05:12.372 TRACE:: Api.DownloadData(): Failed to get link for ../../../Data/equity/usa/map_files/map_files_20230301.zip. Errors: This data is available for download but is not usable without first having subscription to 'US Equity Security Master by QuantConnect - Bulk Download'. To continue downloading data please obtain a subscription to 'US Equity Security Master by QuantConnect - Bulk Download' from the QuantConnect Pricing page.\n",
      "20230317 07:05:12.830 TRACE:: Api.DownloadData(): Failed to get link for ../../../Data/equity/usa/map_files/map_files_20230228.zip. Errors: This data is available for download but is not usable without first having subscription to 'US Equity Security Master by QuantConnect - Bulk Download'. To continue downloading data please obtain a subscription to 'US Equity Security Master by QuantConnect - Bulk Download' from the QuantConnect Pricing page.\n",
      "20230317 07:05:13.318 TRACE:: Api.DownloadData(): Failed to get link for ../../../Data/equity/usa/map_files/map_files_20230227.zip. Errors: This data is available for download but is not usable without first having subscription to 'US Equity Security Master by QuantConnect - Bulk Download'. To continue downloading data please obtain a subscription to 'US Equity Security Master by QuantConnect - Bulk Download' from the QuantConnect Pricing page.\n",
      "20230317 07:05:13.759 TRACE:: Api.DownloadData(): Failed to get link for ../../../Data/equity/usa/map_files/map_files_20230226.zip. Errors: File not found: equity/usa/map_files/map_files_20230226.zip\n",
      "20230317 07:05:14.230 TRACE:: Api.DownloadData(): Failed to get link for ../../../Data/equity/usa/map_files/map_files_20230225.zip. Errors: File not found: equity/usa/map_files/map_files_20230225.zip\n",
      "20230317 07:05:14.671 TRACE:: Api.DownloadData(): Failed to get link for ../../../Data/equity/usa/map_files/map_files_20230224.zip. Errors: This data is available for download but is not usable without first having subscription to 'US Equity Security Master by QuantConnect - Bulk Download'. To continue downloading data please obtain a subscription to 'US Equity Security Master by QuantConnect - Bulk Download' from the QuantConnect Pricing page.\n",
      "20230317 07:05:15.154 TRACE:: Api.DownloadData(): Failed to get link for ../../../Data/equity/usa/map_files/map_files_20230223.zip. Errors: This data is available for download but is not usable without first having subscription to 'US Equity Security Master by QuantConnect - Bulk Download'. To continue downloading data please obtain a subscription to 'US Equity Security Master by QuantConnect - Bulk Download' from the QuantConnect Pricing page.\n",
      "20230317 07:05:15.641 TRACE:: Api.DownloadData(): Failed to get link for ../../../Data/equity/usa/map_files/map_files_20230222.zip. Errors: This data is available for download but is not usable without first having subscription to 'US Equity Security Master by QuantConnect - Bulk Download'. To continue downloading data please obtain a subscription to 'US Equity Security Master by QuantConnect - Bulk Download' from the QuantConnect Pricing page.\n",
      "20230317 07:05:16.103 TRACE:: Api.DownloadData(): Failed to get link for ../../../Data/equity/usa/map_files/map_files_20230221.zip. Errors: This data is available for download but is not usable without first having subscription to 'US Equity Security Master by QuantConnect - Bulk Download'. To continue downloading data please obtain a subscription to 'US Equity Security Master by QuantConnect - Bulk Download' from the QuantConnect Pricing page.\n",
      "20230317 07:05:16.572 TRACE:: Api.DownloadData(): Failed to get link for ../../../Data/equity/usa/map_files/map_files_20230220.zip. Errors: File not found: equity/usa/map_files/map_files_20230220.zip\n",
      "20230317 07:05:17.015 TRACE:: Api.DownloadData(): Failed to get link for ../../../Data/equity/usa/map_files/map_files_20230219.zip. Errors: File not found: equity/usa/map_files/map_files_20230219.zip\n",
      "20230317 07:05:17.771 TRACE:: Api.DownloadData(): Failed to get link for ../../../Data/equity/usa/map_files/map_files_20230218.zip. Errors: File not found: equity/usa/map_files/map_files_20230218.zip\n",
      "20230317 07:05:18.720 TRACE:: Api.DownloadData(): Failed to get link for ../../../Data/equity/usa/map_files/map_files_20230217.zip. Errors: This data is available for download but is not usable without first having subscription to 'US Equity Security Master by QuantConnect - Bulk Download'. To continue downloading data please obtain a subscription to 'US Equity Security Master by QuantConnect - Bulk Download' from the QuantConnect Pricing page.\n",
      "20230317 07:05:19.197 TRACE:: Api.DownloadData(): Failed to get link for ../../../Data/equity/usa/map_files/map_files_20230216.zip. Errors: This data is available for download but is not usable without first having subscription to 'US Equity Security Master by QuantConnect - Bulk Download'. To continue downloading data please obtain a subscription to 'US Equity Security Master by QuantConnect - Bulk Download' from the QuantConnect Pricing page.\n",
      "20230317 07:05:19.670 TRACE:: Api.DownloadData(): Failed to get link for ../../../Data/equity/usa/map_files/map_files_20230215.zip. Errors: This data is available for download but is not usable without first having subscription to 'US Equity Security Master by QuantConnect - Bulk Download'. To continue downloading data please obtain a subscription to 'US Equity Security Master by QuantConnect - Bulk Download' from the QuantConnect Pricing page.\n",
      "20230317 07:05:20.159 TRACE:: Api.DownloadData(): Failed to get link for ../../../Data/equity/usa/map_files/map_files_20230214.zip. Errors: This data is available for download but is not usable without first having subscription to 'US Equity Security Master by QuantConnect - Bulk Download'. To continue downloading data please obtain a subscription to 'US Equity Security Master by QuantConnect - Bulk Download' from the QuantConnect Pricing page.\n",
      "20230317 07:05:20.629 TRACE:: Api.DownloadData(): Failed to get link for ../../../Data/equity/usa/map_files/map_files_20230213.zip. Errors: This data is available for download but is not usable without first having subscription to 'US Equity Security Master by QuantConnect - Bulk Download'. To continue downloading data please obtain a subscription to 'US Equity Security Master by QuantConnect - Bulk Download' from the QuantConnect Pricing page.\n"
     ]
    },
    {
     "ename": "InvalidOperationException",
     "evalue": "LocalZipMapFileProvider couldn't find any map files going all the way back to 2/13/2023 12:00:00 AM\n   at QuantConnect.Data.Auxiliary.LocalZipMapFileProvider.GetMapFileResolver(AuxiliaryDataKey auxiliaryDataKey) in /Lean/Common/Data/Auxiliary/LocalZipMapFileProvider.cs:line 126\n   at QuantConnect.Data.Auxiliary.LocalZipMapFileProvider.Get(AuxiliaryDataKey auxiliaryDataKey) in /Lean/Common/Data/Auxiliary/LocalZipMapFileProvider.cs:line 78\n   at QuantConnect.SecurityIdentifier.GetFirstTickerAndDate(IMapFileProvider mapFileProvider, String tickerToday, String market, SecurityType securityType, Nullable`1 mappingResolveDate) in /Lean/Common/SecurityIdentifier.cs:line 667\n   at QuantConnect.SecurityIdentifier.GenerateEquity(String symbol, String market, Boolean mapSymbol, IMapFileProvider mapFileProvider, Nullable`1 mappingResolveDate) in /Lean/Common/SecurityIdentifier.cs:line 459\n   at QuantConnect.Symbol.Create(String ticker, SecurityType securityType, String market, String alias, Type baseDataType) in /Lean/Common/Symbol.cs:line 70\n   at QuantConnect.Algorithm.QCAlgorithm.AddSecurity[T](SecurityType securityType, String ticker, Nullable`1 resolution, String market, Boolean fillDataForward, Decimal leverage, Boolean extendedMarketHours, Nullable`1 mappingMode, Nullable`1 normalizationMode) in /Lean/Algorithm/QCAlgorithm.cs:line 2658\n   at QuantConnect.Algorithm.QCAlgorithm.AddEquity(String ticker, Nullable`1 resolution, String market, Boolean fillDataForward, Decimal leverage, Boolean extendedMarketHours, Nullable`1 dataNormalizationMode) in /Lean/Algorithm/QCAlgorithm.cs:line 1786",
     "output_type": "error",
     "traceback": [
      "\u001b[0;31m---------------------------------------------------------------------------\u001b[0m",
      "\u001b[0;31mInvalidOperationException\u001b[0m                 Traceback (most recent call last)",
      "\u001b[1;32m/Lean/Research/MyTestQuantBook.ipynb Cell 7\u001b[0m in \u001b[0;36m1\n\u001b[0;32m----> <a href='vscode-notebook-cell://dev-container%2B2f55736572732f71696d6368652f4c65616e/Lean/Research/MyTestQuantBook.ipynb#W6sdnNjb2RlLXJlbW90ZQ%3D%3D?line=0'>1</a>\u001b[0m spy \u001b[39m=\u001b[39m qb\u001b[39m.\u001b[39;49mAddEquity(\u001b[39m\"\u001b[39;49m\u001b[39mSPY\u001b[39;49m\u001b[39m\"\u001b[39;49m)\n\u001b[1;32m      <a href='vscode-notebook-cell://dev-container%2B2f55736572732f71696d6368652f4c65616e/Lean/Research/MyTestQuantBook.ipynb#W6sdnNjb2RlLXJlbW90ZQ%3D%3D?line=1'>2</a>\u001b[0m eur \u001b[39m=\u001b[39m qb\u001b[39m.\u001b[39mAddForex(\u001b[39m\"\u001b[39m\u001b[39mEURUSD\u001b[39m\u001b[39m\"\u001b[39m)\n\u001b[1;32m      <a href='vscode-notebook-cell://dev-container%2B2f55736572732f71696d6368652f4c65616e/Lean/Research/MyTestQuantBook.ipynb#W6sdnNjb2RlLXJlbW90ZQ%3D%3D?line=2'>3</a>\u001b[0m btc \u001b[39m=\u001b[39m qb\u001b[39m.\u001b[39mAddCrypto(\u001b[39m\"\u001b[39m\u001b[39mBTCUSD\u001b[39m\u001b[39m\"\u001b[39m)\n",
      "\u001b[0;31mInvalidOperationException\u001b[0m: LocalZipMapFileProvider couldn't find any map files going all the way back to 2/13/2023 12:00:00 AM\n   at QuantConnect.Data.Auxiliary.LocalZipMapFileProvider.GetMapFileResolver(AuxiliaryDataKey auxiliaryDataKey) in /Lean/Common/Data/Auxiliary/LocalZipMapFileProvider.cs:line 126\n   at QuantConnect.Data.Auxiliary.LocalZipMapFileProvider.Get(AuxiliaryDataKey auxiliaryDataKey) in /Lean/Common/Data/Auxiliary/LocalZipMapFileProvider.cs:line 78\n   at QuantConnect.SecurityIdentifier.GetFirstTickerAndDate(IMapFileProvider mapFileProvider, String tickerToday, String market, SecurityType securityType, Nullable`1 mappingResolveDate) in /Lean/Common/SecurityIdentifier.cs:line 667\n   at QuantConnect.SecurityIdentifier.GenerateEquity(String symbol, String market, Boolean mapSymbol, IMapFileProvider mapFileProvider, Nullable`1 mappingResolveDate) in /Lean/Common/SecurityIdentifier.cs:line 459\n   at QuantConnect.Symbol.Create(String ticker, SecurityType securityType, String market, String alias, Type baseDataType) in /Lean/Common/Symbol.cs:line 70\n   at QuantConnect.Algorithm.QCAlgorithm.AddSecurity[T](SecurityType securityType, String ticker, Nullable`1 resolution, String market, Boolean fillDataForward, Decimal leverage, Boolean extendedMarketHours, Nullable`1 mappingMode, Nullable`1 normalizationMode) in /Lean/Algorithm/QCAlgorithm.cs:line 2658\n   at QuantConnect.Algorithm.QCAlgorithm.AddEquity(String ticker, Nullable`1 resolution, String market, Boolean fillDataForward, Decimal leverage, Boolean extendedMarketHours, Nullable`1 dataNormalizationMode) in /Lean/Algorithm/QCAlgorithm.cs:line 1786"
     ]
    }
   ],
   "source": [
    "spy = qb.AddEquity(\"SPY\")\n",
    "eur = qb.AddForex(\"EURUSD\")\n",
    "btc = qb.AddCrypto(\"BTCUSD\")\n",
    "fxv = qb.AddData[FxcmVolume](\"EURUSD_Vol\", Resolution.Hour)"
   ]
  },
  {
   "cell_type": "markdown",
   "metadata": {},
   "source": [
    "### Historical Data Requests\n",
    "\n",
    "We can use the QuantConnect API to make Historical Data Requests. The data will be presented as multi-index pandas.DataFrame where the first index is the Symbol.\n",
    "\n",
    "For more information, please follow the [link](https://www.quantconnect.com/docs#Historical-Data-Historical-Data-Requests)."
   ]
  },
  {
   "cell_type": "code",
   "execution_count": 42,
   "metadata": {
    "scrolled": true
   },
   "outputs": [],
   "source": [
    "# Gets historical data from the subscribed assets, the last 360 datapoints with daily resolution\n",
    "h1 = qb.History(qb.Securities.Keys, 720, Resolution.Daily)"
   ]
  },
  {
   "cell_type": "code",
   "execution_count": 43,
   "metadata": {},
   "outputs": [
    {
     "data": {
      "text/plain": [
       "<Axes: xlabel='time'>"
      ]
     },
     "execution_count": 43,
     "metadata": {},
     "output_type": "execute_result"
    },
    {
     "data": {
      "image/png": "[encoded data removed]",
      "text/plain": [
       "<Figure size 640x480 with 1 Axes>"
      ]
     },
     "metadata": {},
     "output_type": "display_data"
    }
   ],
   "source": [
    "# Plot closing prices from \"SPY\" \n",
    "h1.loc[\"SPY\"][\"close\"].plot()"
   ]
  },
  {
   "cell_type": "code",
   "execution_count": 11,
   "metadata": {},
   "outputs": [],
   "source": [
    "# Gets historical data from the subscribed assets, from the last 30 days with daily resolution\n",
    "h2 = qb.History(qb.Securities.Keys, datetime(2014,1,1), datetime.now(), Resolution.Daily)"
   ]
  },
  {
   "cell_type": "code",
   "execution_count": 12,
   "metadata": {},
   "outputs": [
    {
     "data": {
      "text/plain": [
       "<Axes: xlabel='time'>"
      ]
     },
     "execution_count": 12,
     "metadata": {},
     "output_type": "execute_result"
    },
    {
     "data": {
      "image/png": "[encoded data removed]",
      "text/plain": [
       "<Figure size 640x480 with 1 Axes>"
      ]
     },
     "metadata": {},
     "output_type": "display_data"
    }
   ],
   "source": [
    "# Plot high prices from \"EURUSD\" \n",
    "h2.loc[\"EURUSD\"][\"high\"].plot()"
   ]
  },
  {
   "cell_type": "code",
   "execution_count": 13,
   "metadata": {},
   "outputs": [],
   "source": [
    "# Gets historical data from the subscribed assets, between two dates with daily resolution\n",
    "h3 = qb.History([btc.Symbol], datetime(2014,1,1), datetime.now(), Resolution.Daily)"
   ]
  },
  {
   "cell_type": "code",
   "execution_count": 14,
   "metadata": {},
   "outputs": [
    {
     "data": {
      "text/plain": [
       "<Axes: xlabel='time'>"
      ]
     },
     "execution_count": 14,
     "metadata": {},
     "output_type": "execute_result"
    },
    {
     "data": {
      "image/png": "[encoded data removed]",
      "text/plain": [
       "<Figure size 640x480 with 1 Axes>"
      ]
     },
     "metadata": {},
     "output_type": "display_data"
    }
   ],
   "source": [
    "# Plot closing prices from \"BTCUSD\" \n",
    "h3.loc[\"BTCUSD\"][\"close\"].plot()"
   ]
  },
  {
   "cell_type": "code",
   "execution_count": 15,
   "metadata": {},
   "outputs": [],
   "source": [
    "# Only fetchs historical data from a desired symbol\n",
    "# NOTE: This will return empty when ran locally because this data is not included\n",
    "h4 = qb.History([spy.Symbol], timedelta(360), Resolution.Daily)\n",
    "# or qb.History([\"SPY\"], 360, Resolution.Daily)"
   ]
  },
  {
   "cell_type": "code",
   "execution_count": 16,
   "metadata": {},
   "outputs": [],
   "source": [
    "# Only fetchs historical data from a desired symbol\n",
    "# NOTE: This will return empty when ran locally because this data is not included\n",
    "h5 = qb.History([eur.Symbol], timedelta(30), Resolution.Daily)\n",
    "# or qb.History([\"EURUSD\"], 30, Resolution.Daily)"
   ]
  },
  {
   "cell_type": "markdown",
   "metadata": {},
   "source": [
    "### Historical Options Data Requests\n",
    "- Select the option data\n",
    "- Sets the filter, otherwise the default will be used SetFilter(-1, 1, timedelta(0), timedelta(35))\n",
    "- Get the OptionHistory, an object that has information about the historical options data"
   ]
  },
  {
   "cell_type": "code",
   "execution_count": 17,
   "metadata": {},
   "outputs": [],
   "source": [
    "goog = qb.AddOption(\"GOOG\")\n",
    "goog.SetFilter(-2, 2, timedelta(0), timedelta(180))"
   ]
  },
  {
   "cell_type": "code",
   "execution_count": 18,
   "metadata": {},
   "outputs": [
    {
     "name": "stdout",
     "output_type": "stream",
     "text": [
      "[745.0, 747.5, 750.0, 752.5, 755.0, 742.5]\n",
      "[datetime.datetime(2016, 1, 15, 0, 0), datetime.datetime(2016, 2, 19, 0, 0), datetime.datetime(2016, 3, 18, 0, 0), datetime.datetime(2016, 6, 17, 0, 0)]\n"
     ]
    }
   ],
   "source": [
    "option_history = qb.GetOptionHistory(goog.Symbol, datetime(2015, 12, 24))\n",
    "print (option_history.GetStrikes())\n",
    "print (option_history.GetExpiryDates())\n",
    "h7 = option_history.GetAllData()"
   ]
  },
  {
   "cell_type": "markdown",
   "metadata": {},
   "source": [
    "### Historical Future Data Requests\n",
    "- Select the future data\n",
    "- Sets the filter, otherwise the default will be used SetFilter(timedelta(0), timedelta(35))\n",
    "- Get the FutureHistory, an object that has information about the historical future data"
   ]
  },
  {
   "cell_type": "code",
   "execution_count": null,
   "metadata": {
    "scrolled": true
   },
   "outputs": [],
   "source": [
    "es = qb.AddFuture(\"ES\")\n",
    "es.SetFilter(timedelta(0), timedelta(180))"
   ]
  },
  {
   "cell_type": "code",
   "execution_count": null,
   "metadata": {},
   "outputs": [],
   "source": [
    "future_history = qb.GetFutureHistory(es.Symbol, datetime(2013, 10, 7))\n",
    "print (future_history.GetExpiryDates())\n",
    "h7 = future_history.GetAllData()"
   ]
  },
  {
   "cell_type": "markdown",
   "metadata": {},
   "source": [
    "### Get Fundamental Data\n",
    "\n",
    "- *GetFundamental([symbol], selector, start_date = datetime(1998,1,1), end_date = datetime.now())*\n",
    "\n",
    "We will get a pandas.DataFrame with fundamental data."
   ]
  },
  {
   "cell_type": "code",
   "execution_count": null,
   "metadata": {},
   "outputs": [],
   "source": [
    "data = qb.GetFundamental([\"AAPL\",\"AIG\",\"BAC\",\"GOOG\",\"IBM\"], \"ValuationRatios.PERatio\")\n",
    "data"
   ]
  },
  {
   "cell_type": "markdown",
   "metadata": {},
   "source": [
    "### Indicators\n",
    "\n",
    "We can easily get the indicator of a given symbol with QuantBook. \n",
    "\n",
    "For all indicators, please checkout QuantConnect Indicators [Reference Table](https://www.quantconnect.com/docs#Indicators-Reference-Table)"
   ]
  },
  {
   "cell_type": "code",
   "execution_count": null,
   "metadata": {},
   "outputs": [],
   "source": [
    "# Example with BB, it is a datapoint indicator\n",
    "# Define the indicator\n",
    "bb = BollingerBands(30, 2)\n",
    "\n",
    "# Gets historical data of indicator\n",
    "bbdf = qb.Indicator(bb, \"SPY\", 360, Resolution.Daily)\n",
    "\n",
    "# drop undesired fields\n",
    "bbdf = bbdf.drop('standarddeviation', 1)\n",
    "\n",
    "# Plot\n",
    "bbdf.plot()"
   ]
  },
  {
   "cell_type": "code",
   "execution_count": null,
   "metadata": {},
   "outputs": [],
   "source": [
    "# For EURUSD\n",
    "bbdf = qb.Indicator(bb, \"EURUSD\", 360, Resolution.Daily)\n",
    "bbdf = bbdf.drop('standarddeviation', 1)\n",
    "bbdf.plot()"
   ]
  },
  {
   "cell_type": "code",
   "execution_count": null,
   "metadata": {},
   "outputs": [],
   "source": [
    "# Example with ADX, it is a bar indicator\n",
    "adx = AverageDirectionalIndex(\"adx\", 14)\n",
    "adxdf = qb.Indicator(adx, \"SPY\", 360, Resolution.Daily)\n",
    "adxdf.plot()"
   ]
  },
  {
   "cell_type": "code",
   "execution_count": null,
   "metadata": {},
   "outputs": [],
   "source": [
    "# For EURUSD\n",
    "adxdf = qb.Indicator(adx, \"EURUSD\", 360, Resolution.Daily)\n",
    "adxdf.plot()"
   ]
  },
  {
   "cell_type": "code",
   "execution_count": null,
   "metadata": {},
   "outputs": [],
   "source": [
    "# Example with ADO, it is a tradebar indicator (requires volume in its calculation)\n",
    "ado = AccumulationDistributionOscillator(\"ado\", 5, 30)\n",
    "adodf = qb.Indicator(ado, \"SPY\", 360, Resolution.Daily)\n",
    "adodf.plot()"
   ]
  },
  {
   "cell_type": "code",
   "execution_count": null,
   "metadata": {},
   "outputs": [],
   "source": [
    "# For EURUSD. \n",
    "# Uncomment to check that this SHOULD fail, since Forex is data type is not TradeBar.\n",
    "# adodf = qb.Indicator(ado, \"EURUSD\", 360, Resolution.Daily)\n",
    "# adodf.plot()"
   ]
  },
  {
   "cell_type": "code",
   "execution_count": null,
   "metadata": {},
   "outputs": [],
   "source": [
    "# SMA cross:\n",
    "symbol = \"EURUSD\"\n",
    "# Get History \n",
    "hist = qb.History([symbol], 500, Resolution.Daily)\n",
    "# Get the fast moving average\n",
    "fast = qb.Indicator(SimpleMovingAverage(50), symbol, 500, Resolution.Daily)\n",
    "# Get the fast moving average\n",
    "slow = qb.Indicator(SimpleMovingAverage(200), symbol, 500, Resolution.Daily)\n",
    "\n",
    "# Remove undesired columns and rename others \n",
    "fast = fast.drop('rollingsum', 1).rename(columns={'simplemovingaverage': 'fast'})\n",
    "slow = slow.drop('rollingsum', 1).rename(columns={'simplemovingaverage': 'slow'})\n",
    "\n",
    "# Concatenate the information and plot \n",
    "df = pd.concat([hist.loc[symbol][\"close\"], fast, slow], axis=1).dropna(axis=0)\n",
    "df.plot()"
   ]
  },
  {
   "cell_type": "code",
   "execution_count": null,
   "metadata": {},
   "outputs": [],
   "source": [
    "# Get indicator defining a lookback period in terms of timedelta\n",
    "ema1 = qb.Indicator(ExponentialMovingAverage(50), \"SPY\", timedelta(100), Resolution.Daily)\n",
    "# Get indicator defining a start and end date\n",
    "ema2 = qb.Indicator(ExponentialMovingAverage(50), \"SPY\", datetime(2016,1,1), datetime(2016,10,1), Resolution.Daily)\n",
    "\n",
    "ema = pd.concat([ema1, ema2], axis=1)\n",
    "ema.plot()"
   ]
  },
  {
   "cell_type": "code",
   "execution_count": null,
   "metadata": {},
   "outputs": [],
   "source": [
    "rsi = RelativeStrengthIndex(14)\n",
    "\n",
    "# Selects which field we want to use in our indicator (default is Field.Close)\n",
    "rsihi = qb.Indicator(rsi, \"SPY\", 360, Resolution.Daily, Field.High)\n",
    "rsilo = qb.Indicator(rsi, \"SPY\", 360, Resolution.Daily, Field.Low)\n",
    "rsihi = rsihi.rename(columns={'relativestrengthindex': 'high'})\n",
    "rsilo = rsilo.rename(columns={'relativestrengthindex': 'low'})\n",
    "rsi = pd.concat([rsihi['high'], rsilo['low']], axis=1)\n",
    "rsi.plot()"
   ]
  }
 ],
 "metadata": {
  "kernelspec": {
   "display_name": "Foundation-Pomegranate",
   "language": "python",
   "name": "foundation-pomegranate"
  },
  "language_info": {
   "codemirror_mode": {
    "name": "ipython",
    "version": 3
   },
   "file_extension": ".py",
   "mimetype": "text/x-python",
   "name": "python",
   "nbconvert_exporter": "python",
   "pygments_lexer": "ipython3",
   "version": "3.8.13"
  }
 },
 "nbformat": 4,
 "nbformat_minor": 4
}
